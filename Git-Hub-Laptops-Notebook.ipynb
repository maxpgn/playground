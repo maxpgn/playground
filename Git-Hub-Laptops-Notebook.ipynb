{
 "cells": [
  {
   "cell_type": "code",
   "execution_count": 1,
   "metadata": {},
   "outputs": [],
   "source": [
    "import pandas as np\n",
    "laptops=np.read_csv('/home/maxpgn/Documents/Python/'laptops.csv',index_col=False,na_filter=False,encoding='latin-1')\n",
    "laptops.rename({' Storage':'storage'},axis=1,inplace=True)"
   ]
  },
  {
   "cell_type": "code",
   "execution_count": 2,
   "metadata": {},
   "outputs": [],
   "source": [
    "#storage 1 capacity creation with temporary name\n",
    "laptops['s1']=(laptops['storage']\n",
    "               .str.split(n=2,expand=True)\n",
    "               .loc[:,0]\n",
    "              )"
   ]
  },
  {
   "cell_type": "code",
   "execution_count": 3,
   "metadata": {
    "scrolled": false
   },
   "outputs": [
    {
     "name": "stdout",
     "output_type": "stream",
     "text": [
      "<class 'pandas.core.frame.DataFrame'>\n",
      "RangeIndex: 1303 entries, 0 to 1302\n",
      "Data columns (total 14 columns):\n",
      "Manufacturer                1303 non-null object\n",
      "Model Name                  1303 non-null object\n",
      "Category                    1303 non-null object\n",
      "Screen Size                 1303 non-null object\n",
      "Screen                      1303 non-null object\n",
      "CPU                         1303 non-null object\n",
      "RAM                         1303 non-null object\n",
      "storage                     1303 non-null object\n",
      "GPU                         1303 non-null object\n",
      "Operating System            1303 non-null object\n",
      "Operating System Version    1303 non-null object\n",
      "Weight                      1303 non-null object\n",
      "Price (Euros)               1303 non-null object\n",
      "s1                          1303 non-null float64\n",
      "dtypes: float64(1), object(13)\n",
      "memory usage: 142.6+ KB\n"
     ]
    },
    {
     "data": {
      "text/plain": [
       "array([1.28e+02, 2.56e+02, 5.12e+02, 5.00e+02, 1.00e+03, 3.20e+01,\n",
       "       6.40e+01, 2.00e+03, 1.60e+01, 1.00e+00, 2.40e+02, 8.00e+00,\n",
       "       5.08e+02])"
      ]
     },
     "execution_count": 3,
     "metadata": {},
     "output_type": "execute_result"
    }
   ],
   "source": [
    "#boolean of storage 1 in GB\n",
    "s1GB=laptops['s1'].str.contains('GB')\n",
    "\n",
    "#storage 1 in GB and TB conversion to float\n",
    "laptops['s1']=(laptops['s1']   \n",
    "                        .str.replace('GB','')\n",
    "                        .str.replace('TB','')\n",
    "                        .astype(float)\n",
    "                        )\n",
    "\n",
    "#storage 1 in TB conversion to GB\n",
    "laptops.loc[~s1GB,'s1']=(laptops.loc[~s1GB,'s1']\n",
    "                        *1000\n",
    "                        )\n",
    "laptops.info()\n",
    "laptops['s1'].unique()"
   ]
  },
  {
   "cell_type": "code",
   "execution_count": 4,
   "metadata": {},
   "outputs": [],
   "source": [
    "#storage 1 type creation with temporary name\n",
    "laptops['s1t']=(laptops['storage']\n",
    "                .str.split(n=2,expand=True)\n",
    "                .loc[:,1]\n",
    "                #.str.strip()\n",
    "               )"
   ]
  },
  {
   "cell_type": "code",
   "execution_count": 5,
   "metadata": {},
   "outputs": [],
   "source": [
    "#boolean of laptops with 2 disks\n",
    "tdb=laptops['storage'].str.contains('\\+')\n",
    "\n",
    "#storage 2 capacity creation with temporary name\n",
    "laptops.loc[tdb,'s2']=(laptops['storage']\n",
    "                       .str.rsplit(n=2,expand=True)\n",
    "                       .loc[:,1]\n",
    "                      )"
   ]
  },
  {
   "cell_type": "code",
   "execution_count": 6,
   "metadata": {},
   "outputs": [
    {
     "name": "stdout",
     "output_type": "stream",
     "text": [
      "<class 'pandas.core.frame.DataFrame'>\n",
      "RangeIndex: 1303 entries, 0 to 1302\n",
      "Data columns (total 16 columns):\n",
      "Manufacturer                1303 non-null object\n",
      "Model Name                  1303 non-null object\n",
      "Category                    1303 non-null object\n",
      "Screen Size                 1303 non-null object\n",
      "Screen                      1303 non-null object\n",
      "CPU                         1303 non-null object\n",
      "RAM                         1303 non-null object\n",
      "storage                     1303 non-null object\n",
      "GPU                         1303 non-null object\n",
      "Operating System            1303 non-null object\n",
      "Operating System Version    1303 non-null object\n",
      "Weight                      1303 non-null object\n",
      "Price (Euros)               1303 non-null object\n",
      "s1                          1303 non-null float64\n",
      "s1t                         1303 non-null object\n",
      "s2                          208 non-null float64\n",
      "dtypes: float64(2), object(14)\n",
      "memory usage: 163.0+ KB\n"
     ]
    },
    {
     "data": {
      "text/plain": [
       "array([  nan, 1000.,  256., 2000.,  500.,  512.])"
      ]
     },
     "execution_count": 6,
     "metadata": {},
     "output_type": "execute_result"
    }
   ],
   "source": [
    "#boolean of storage 2 in either GB or TB\n",
    "#s2GB=(laptops['s2'].notna()) & (laptops['s2'].str.contains('GB'))\n",
    "s2TB=(laptops['s2'].notna()) & (laptops['s2'].str.contains('TB'))\n",
    "\n",
    "#storage 2 conversion to float\n",
    "laptops['s2']=(laptops['s2']\n",
    "               .str.replace('GB','')\n",
    "               .str.replace('TB','')\n",
    "               .astype(float)\n",
    "               )\n",
    "laptops.loc[s2TB,'s2']=(laptops.loc[s2TB,'s2']\n",
    "                        *1000\n",
    "                       )\n",
    "\n",
    "laptops.info()\n",
    "laptops['s2'].unique()"
   ]
  },
  {
   "cell_type": "code",
   "execution_count": 7,
   "metadata": {},
   "outputs": [],
   "source": [
    "#storage 2 type creation with temporary name\n",
    "laptops['s2t']=(laptops.loc[tdb,'storage']\n",
    "                .str.rsplit(n=2,expand=True)\n",
    "                .loc[:,2]\n",
    "                #.str.strip()\n",
    "               )\n",
    "\n",
    "laptops.loc[~tdb,'s2t']=None"
   ]
  },
  {
   "cell_type": "code",
   "execution_count": 8,
   "metadata": {},
   "outputs": [],
   "source": [
    "#column renaming\n",
    "rename_dict={\n",
    "    's1':'storage_1_capacity_gb',\n",
    "    's1t':'storage_1_type',\n",
    "    's2':'storage_2_capacity_gb',\n",
    "    's2t':'storage_2_type'\n",
    "}\n",
    "laptops.rename(rename_dict,axis=1,inplace=True)\n",
    "    \n",
    "#dropping 'storage' column\n",
    "laptops=laptops.drop('storage',axis=1)"
   ]
  },
  {
   "cell_type": "code",
   "execution_count": 9,
   "metadata": {
    "scrolled": true
   },
   "outputs": [
    {
     "data": {
      "text/html": [
       "<div>\n",
       "<style scoped>\n",
       "    .dataframe tbody tr th:only-of-type {\n",
       "        vertical-align: middle;\n",
       "    }\n",
       "\n",
       "    .dataframe tbody tr th {\n",
       "        vertical-align: top;\n",
       "    }\n",
       "\n",
       "    .dataframe thead th {\n",
       "        text-align: right;\n",
       "    }\n",
       "</style>\n",
       "<table border=\"1\" class=\"dataframe\">\n",
       "  <thead>\n",
       "    <tr style=\"text-align: right;\">\n",
       "      <th></th>\n",
       "      <th>storage_1_capacity_gb</th>\n",
       "      <th>storage_1_type</th>\n",
       "      <th>storage_2_capacity_gb</th>\n",
       "      <th>storage_2_type</th>\n",
       "    </tr>\n",
       "  </thead>\n",
       "  <tbody>\n",
       "    <tr>\n",
       "      <th>76</th>\n",
       "      <td>2000.0</td>\n",
       "      <td>HDD</td>\n",
       "      <td>NaN</td>\n",
       "      <td>None</td>\n",
       "    </tr>\n",
       "    <tr>\n",
       "      <th>77</th>\n",
       "      <td>128.0</td>\n",
       "      <td>SSD</td>\n",
       "      <td>1000.0</td>\n",
       "      <td>HDD</td>\n",
       "    </tr>\n",
       "    <tr>\n",
       "      <th>78</th>\n",
       "      <td>1000.0</td>\n",
       "      <td>HDD</td>\n",
       "      <td>NaN</td>\n",
       "      <td>None</td>\n",
       "    </tr>\n",
       "    <tr>\n",
       "      <th>79</th>\n",
       "      <td>128.0</td>\n",
       "      <td>SSD</td>\n",
       "      <td>1000.0</td>\n",
       "      <td>HDD</td>\n",
       "    </tr>\n",
       "    <tr>\n",
       "      <th>80</th>\n",
       "      <td>256.0</td>\n",
       "      <td>SSD</td>\n",
       "      <td>NaN</td>\n",
       "      <td>None</td>\n",
       "    </tr>\n",
       "    <tr>\n",
       "      <th>81</th>\n",
       "      <td>512.0</td>\n",
       "      <td>SSD</td>\n",
       "      <td>NaN</td>\n",
       "      <td>None</td>\n",
       "    </tr>\n",
       "  </tbody>\n",
       "</table>\n",
       "</div>"
      ],
      "text/plain": [
       "    storage_1_capacity_gb storage_1_type  storage_2_capacity_gb storage_2_type\n",
       "76                 2000.0            HDD                    NaN           None\n",
       "77                  128.0            SSD                 1000.0            HDD\n",
       "78                 1000.0            HDD                    NaN           None\n",
       "79                  128.0            SSD                 1000.0            HDD\n",
       "80                  256.0            SSD                    NaN           None\n",
       "81                  512.0            SSD                    NaN           None"
      ]
     },
     "execution_count": 9,
     "metadata": {},
     "output_type": "execute_result"
    }
   ],
   "source": [
    "laptops.loc[76:81,['storage_1_capacity_gb','storage_1_type','storage_2_capacity_gb','storage_2_type']]"
   ]
  },
  {
   "cell_type": "code",
   "execution_count": 10,
   "metadata": {
    "scrolled": true
   },
   "outputs": [
    {
     "name": "stdout",
     "output_type": "stream",
     "text": [
      "<class 'pandas.core.frame.DataFrame'>\n",
      "RangeIndex: 1303 entries, 0 to 1302\n",
      "Data columns (total 17 columns):\n",
      "Manufacturer                1303 non-null object\n",
      "Model Name                  1303 non-null object\n",
      "Category                    1303 non-null object\n",
      "Screen Size                 1303 non-null object\n",
      "Screen                      1303 non-null object\n",
      "CPU                         1303 non-null object\n",
      "RAM                         1303 non-null object\n",
      "storage                     1303 non-null object\n",
      "GPU                         1303 non-null object\n",
      "Operating System            1303 non-null object\n",
      "Operating System Version    1303 non-null object\n",
      "Weight                      1303 non-null object\n",
      "Price (Euros)               1303 non-null object\n",
      "storage_1_capacity_gb       1303 non-null float64\n",
      "storage_1_type              1303 non-null object\n",
      "storage_2_capacity_gb       208 non-null float64\n",
      "storage_2_type              208 non-null object\n",
      "dtypes: float64(2), object(15)\n",
      "memory usage: 173.1+ KB\n"
     ]
    }
   ],
   "source": [
    "laptops.info()"
   ]
  },
  {
   "cell_type": "code",
   "execution_count": 11,
   "metadata": {},
   "outputs": [
    {
     "data": {
      "text/plain": [
       "array([1.28e+02, 2.56e+02, 5.12e+02, 5.00e+02, 1.00e+03, 3.20e+01,\n",
       "       6.40e+01, 2.00e+03, 1.60e+01, 1.00e+00, 2.40e+02, 8.00e+00,\n",
       "       5.08e+02])"
      ]
     },
     "execution_count": 11,
     "metadata": {},
     "output_type": "execute_result"
    }
   ],
   "source": [
    "laptops['storage_1_capacity_gb'].unique()"
   ]
  },
  {
   "cell_type": "code",
   "execution_count": 12,
   "metadata": {},
   "outputs": [
    {
     "data": {
      "text/plain": [
       "array(['SSD', 'Flash', 'HDD', 'Hybrid'], dtype=object)"
      ]
     },
     "execution_count": 12,
     "metadata": {},
     "output_type": "execute_result"
    }
   ],
   "source": [
    "laptops['storage_1_type'].unique()"
   ]
  },
  {
   "cell_type": "code",
   "execution_count": 13,
   "metadata": {},
   "outputs": [
    {
     "data": {
      "text/plain": [
       "array([  nan, 1000.,  256., 2000.,  500.,  512.])"
      ]
     },
     "execution_count": 13,
     "metadata": {},
     "output_type": "execute_result"
    }
   ],
   "source": [
    "laptops['storage_2_capacity_gb'].unique()"
   ]
  },
  {
   "cell_type": "code",
   "execution_count": 14,
   "metadata": {},
   "outputs": [
    {
     "data": {
      "text/plain": [
       "array([None, 'HDD', 'SSD', 'Hybrid'], dtype=object)"
      ]
     },
     "execution_count": 14,
     "metadata": {},
     "output_type": "execute_result"
    }
   ],
   "source": [
    "laptops['storage_2_type'].unique()"
   ]
  }
 ],
 "metadata": {
  "kernelspec": {
   "display_name": "Python 3",
   "language": "python",
   "name": "python3"
  },
  "language_info": {
   "codemirror_mode": {
    "name": "ipython",
    "version": 3
   },
   "file_extension": ".py",
   "mimetype": "text/x-python",
   "name": "python",
   "nbconvert_exporter": "python",
   "pygments_lexer": "ipython3",
   "version": "3.7.0"
  }
 },
 "nbformat": 4,
 "nbformat_minor": 2
}
