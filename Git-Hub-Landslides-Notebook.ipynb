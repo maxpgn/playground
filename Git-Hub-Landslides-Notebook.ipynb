{
 "cells": [
  {
   "cell_type": "markdown",
   "metadata": {},
   "source": [
    "# Global landslides dataset (very) basic investigation\n",
    "\n",
    "## Description:\n",
    "\n",
    "This super short notebook aims at showing what can be done with very basic data handling skills in Python. Everything in it - including Python, Jupyter and Markdown - was learned following the first step of [Dataquest](www.dataquest.io) \"Data Scientist in Python\" path. The notebook will be improved with Data Visualization once I know how to do it :). \n",
    "\n",
    "We will work with a very interesting CSV file found at [Nasa's open data portal](https://data.nasa.gov/Earth-Science/Global-Landslide-Catalog-Export/dd9e-wu2v). Here is the file description :\n",
    ">The Global Landslide Catalog (GLC) was developed with the goal of identifying rainfall-triggered landslide events around the world, regardless of size, impacts or location. The GLC considers all types of mass movements triggered by rainfall, which have been reported in the media, disaster databases, scientific reports, or other sources. The GLC has been compiled since 2007 at NASA Goddard Space Flight Center. This is a unique data set with the ID tag “GLC” in the landslide editor.\n",
    "\n",
    "The file is made of more than 11,000 rows of 31 columns, each row being a landslide described with 31 characteristics. Let's perform easy investigation on it."
   ]
  },
  {
   "cell_type": "markdown",
   "metadata": {},
   "source": [
    "## Step 1: Let's turn the CSV file into a dataset and display the first row\n",
    "\n",
    "The first thing to do to work with the CSV file is to turn it into a Python object. We choose to create our own class of object: a dataset with 3 attributes. These 3 attributes are:\n",
    "1. ***h*** : is a list containing the header row\n",
    "2. ***l*** : is a list of lists containing all the remaining rows (the landslides)\n",
    "3. ***d*** : is a dictionnary with the key/value pair being header/list of values\n",
    "\n",
    "We choose to name our dataset \"lsc\" for *landslide catalog*. We will also use a \"ls\" - for *landslide* - variable to loop through \"lsc\"."
   ]
  },
  {
   "cell_type": "code",
   "execution_count": 1,
   "metadata": {},
   "outputs": [],
   "source": [
    "import csv\n",
    "class dataset:\n",
    "    def __init__(self,CSVfile):\n",
    "        file_handler=open(CSVfile,'r')\n",
    "        list_of_lists=list(csv.reader(file_handler))\n",
    "        self.h=list_of_lists[0]\n",
    "        self.l=list_of_lists[1:]\n",
    "        self.d={}\n",
    "        for index,header in enumerate(self.h):\n",
    "            column_data=[]\n",
    "            for row in self.l:\n",
    "                column_data.append(row[index])\n",
    "            self.d[header]=column_data\n",
    "            \n",
    "lsc=dataset('Global_Landslide_Catalog_Export.csv')"
   ]
  },
  {
   "cell_type": "markdown",
   "metadata": {},
   "source": [
    "We can now display the first row of our dataset. As said before, it is one landslide with 31 characteristics."
   ]
  },
  {
   "cell_type": "code",
   "execution_count": 2,
   "metadata": {},
   "outputs": [
    {
     "name": "stdout",
     "output_type": "stream",
     "text": [
      "0 source_name : AGU\n",
      "1 source_link : https://blogs.agu.org/landslideblog/2008/10/14/the-lifan-landslide-from-natural-disaster-to-cover-up/\n",
      "2 event_id : 684\n",
      "3 event_date : 08/01/2008 12:00:00 AM\n",
      "4 event_time : \n",
      "5 event_title : Sigou Village, Loufan County, Shanxi Province\n",
      "6 event_description : occurred early in morning, 11 villagers buried in 7 houses\n",
      "7 location_description : Sigou Village, Loufan County, Shanxi Province\n",
      "8 location_accuracy : unknown\n",
      "9 landslide_category : landslide\n",
      "10 landslide_trigger : rain\n",
      "11 landslide_size : large\n",
      "12 landslide_setting : mine\n",
      "13 fatality_count : 11\n",
      "14 injury_count : \n",
      "15 storm_name : \n",
      "16 photo_link : \n",
      "17 notes : \n",
      "18 event_import_source : glc\n",
      "19 event_import_id : 684\n",
      "20 country_name : China\n",
      "21 country_code : CN\n",
      "22 admin_division_name : Shaanxi\n",
      "23 admin_division_population : 0\n",
      "24 gazeteer_closest_point : Jingyang\n",
      "25 gazeteer_distance : 41.02145\n",
      "26 submitted_date : 04/01/2014 12:00:00 AM\n",
      "27 created_date : 11/20/2017 03:17:00 PM\n",
      "28 last_edited_date : 02/15/2018 03:51:00 PM\n",
      "29 longitude : 107.45\n",
      "30 latitude : 32.5625\n"
     ]
    }
   ],
   "source": [
    "for index,header in enumerate(lsc.h):\n",
    "    print(index, header,':', lsc.l[0][index])"
   ]
  },
  {
   "cell_type": "markdown",
   "metadata": {},
   "source": [
    "## Step 2: How many landslides per year?\n",
    "\n",
    "We can find the year of each landslide in our dictionnary, under the key 'event_date'. It is embedded inside a string containing the full date and the time. We isolate the year using the module datetime and append it to our data in both ***l*** (the list of landslides) and ***d*** (the dictionnary)."
   ]
  },
  {
   "cell_type": "code",
   "execution_count": 3,
   "metadata": {},
   "outputs": [
    {
     "data": {
      "text/plain": [
       "['08/01/2008 12:00:00 AM',\n",
       " '01/02/2009 02:00:00 AM',\n",
       " '01/19/2007 12:00:00 AM',\n",
       " '07/31/2009 12:00:00 AM',\n",
       " '10/16/2010 12:00:00 PM']"
      ]
     },
     "execution_count": 3,
     "metadata": {},
     "output_type": "execute_result"
    }
   ],
   "source": [
    "(lsc.d['event_date'][0:5])"
   ]
  },
  {
   "cell_type": "code",
   "execution_count": 4,
   "metadata": {},
   "outputs": [],
   "source": [
    "import datetime\n",
    "year_list=[]\n",
    "for ls in lsc.l:\n",
    "        year=datetime.datetime.strptime(ls[3],'%m/%d/%Y %I:%M:%S %p').year\n",
    "        ls.append(year)\n",
    "        year_list.append(year)\n",
    "lsc.d['year']=year_list"
   ]
  },
  {
   "cell_type": "markdown",
   "metadata": {},
   "source": [
    "We can now count the number of landslides per year and display the result. According to the file description, the Global Landslide Catalog has been compiled since 2007, therefore the data before that year is not relevant."
   ]
  },
  {
   "cell_type": "code",
   "execution_count": 5,
   "metadata": {
    "scrolled": true
   },
   "outputs": [
    {
     "data": {
      "text/plain": [
       "{2008: 553,\n",
       " 2009: 423,\n",
       " 2007: 412,\n",
       " 2010: 1536,\n",
       " 2012: 794,\n",
       " 2014: 1035,\n",
       " 2015: 1341,\n",
       " 2011: 1324,\n",
       " 2017: 1255,\n",
       " 2016: 1183,\n",
       " 2013: 1132,\n",
       " 1997: 10,\n",
       " 1998: 12,\n",
       " 2005: 2,\n",
       " 1996: 2,\n",
       " 2006: 13,\n",
       " 2004: 1,\n",
       " 1995: 1,\n",
       " 2003: 2,\n",
       " 1993: 1,\n",
       " 1988: 1}"
      ]
     },
     "execution_count": 5,
     "metadata": {},
     "output_type": "execute_result"
    }
   ],
   "source": [
    "count_per_year={}\n",
    "for year in lsc.d['year']:\n",
    "    if year in count_per_year:\n",
    "        count_per_year[year]+=1\n",
    "    else:\n",
    "        count_per_year[year]=1\n",
    "count_per_year"
   ]
  },
  {
   "cell_type": "markdown",
   "metadata": {},
   "source": [
    "Let's pretend we would like to study how climate change affects the number of landslides: we would only be interested by landslides triggered by weather. We can add another column to our dataset in both ***l*** and ***d*** : this column 'weather_related' describes wether the landslide was triggered by a weather phenomenon or not. Here are all the different triggers listed under the key 'landslide_trigger' :"
   ]
  },
  {
   "cell_type": "code",
   "execution_count": 6,
   "metadata": {},
   "outputs": [
    {
     "data": {
      "text/plain": [
       "{'',\n",
       " 'construction',\n",
       " 'continuous_rain',\n",
       " 'dam_embankment_collapse',\n",
       " 'downpour',\n",
       " 'earthquake',\n",
       " 'flooding',\n",
       " 'freeze_thaw',\n",
       " 'leaking_pipe',\n",
       " 'mining',\n",
       " 'monsoon',\n",
       " 'no_apparent_trigger',\n",
       " 'other',\n",
       " 'rain',\n",
       " 'snowfall_snowmelt',\n",
       " 'tropical_cyclone',\n",
       " 'unknown',\n",
       " 'vibration',\n",
       " 'volcano'}"
      ]
     },
     "execution_count": 6,
     "metadata": {},
     "output_type": "execute_result"
    }
   ],
   "source": [
    "set(lsc.d['landslide_trigger'])"
   ]
  },
  {
   "cell_type": "markdown",
   "metadata": {},
   "source": [
    "If a landslide was triggered by either continuous rain, downpour, flooding, freeze thaw, monsoon, rain, snowfall, snowmelt or tropical cyclone, 'weather_related' is True. Otherwise, it is False."
   ]
  },
  {
   "cell_type": "code",
   "execution_count": 7,
   "metadata": {},
   "outputs": [],
   "source": [
    "weather_related_list=[]\n",
    "for ls in lsc.l:\n",
    "    if ls[10]=='continuous_rain' or ls[10]=='downpour' or ls[10]=='flooding' or ls[10]=='freeze_thaw' or ls[10]=='monsoon' or ls[10]=='rain' or ls[10]=='snowfall_snowmelt' or ls[10]=='tropical_cyclone':\n",
    "        ls.append(True)\n",
    "        weather_related_list.append(True)\n",
    "    else:\n",
    "        ls.append(False)\n",
    "        weather_related_list.append(False)\n",
    "lsc.d['weather_related']=weather_related_list"
   ]
  },
  {
   "cell_type": "markdown",
   "metadata": {},
   "source": [
    "Here is the first row of data now that we have added the columns 'year' and 'weather_related' :"
   ]
  },
  {
   "cell_type": "code",
   "execution_count": 8,
   "metadata": {
    "scrolled": true
   },
   "outputs": [
    {
     "name": "stdout",
     "output_type": "stream",
     "text": [
      "source_name : AGU\n",
      "source_link : https://blogs.agu.org/landslideblog/2008/10/14/the-lifan-landslide-from-natural-disaster-to-cover-up/\n",
      "event_id : 684\n",
      "event_date : 08/01/2008 12:00:00 AM\n",
      "event_time : \n",
      "event_title : Sigou Village, Loufan County, Shanxi Province\n",
      "event_description : occurred early in morning, 11 villagers buried in 7 houses\n",
      "location_description : Sigou Village, Loufan County, Shanxi Province\n",
      "location_accuracy : unknown\n",
      "landslide_category : landslide\n",
      "landslide_trigger : rain\n",
      "landslide_size : large\n",
      "landslide_setting : mine\n",
      "fatality_count : 11\n",
      "injury_count : \n",
      "storm_name : \n",
      "photo_link : \n",
      "notes : \n",
      "event_import_source : glc\n",
      "event_import_id : 684\n",
      "country_name : China\n",
      "country_code : CN\n",
      "admin_division_name : Shaanxi\n",
      "admin_division_population : 0\n",
      "gazeteer_closest_point : Jingyang\n",
      "gazeteer_distance : 41.02145\n",
      "submitted_date : 04/01/2014 12:00:00 AM\n",
      "created_date : 11/20/2017 03:17:00 PM\n",
      "last_edited_date : 02/15/2018 03:51:00 PM\n",
      "longitude : 107.45\n",
      "latitude : 32.5625\n",
      "year : 2008\n",
      "weather_related : True\n"
     ]
    }
   ],
   "source": [
    "for header,data in lsc.d.items():\n",
    "    print(header,':',data[0])"
   ]
  },
  {
   "cell_type": "markdown",
   "metadata": {},
   "source": [
    "We count again the number of landslides per year, but this time, only the weather related landslides."
   ]
  },
  {
   "cell_type": "code",
   "execution_count": 9,
   "metadata": {
    "scrolled": true
   },
   "outputs": [
    {
     "data": {
      "text/plain": [
       "{2008: 519,\n",
       " 2009: 407,\n",
       " 2007: 393,\n",
       " 2010: 1515,\n",
       " 2012: 551,\n",
       " 2011: 1189,\n",
       " 2017: 1040,\n",
       " 2016: 773,\n",
       " 2013: 939,\n",
       " 2015: 886,\n",
       " 2014: 709,\n",
       " 1997: 10,\n",
       " 1998: 12,\n",
       " 1996: 2,\n",
       " 2006: 12,\n",
       " 2004: 1,\n",
       " 1995: 1,\n",
       " 1993: 1,\n",
       " 1988: 1}"
      ]
     },
     "execution_count": 9,
     "metadata": {},
     "output_type": "execute_result"
    }
   ],
   "source": [
    "weather_related_per_year={}\n",
    "for ls in lsc.l:\n",
    "    if ls[32]==True:\n",
    "        if ls[31] in weather_related_per_year:\n",
    "            weather_related_per_year[ls[31]]+=1\n",
    "        else:\n",
    "            weather_related_per_year[ls[31]]=1\n",
    "weather_related_per_year"
   ]
  },
  {
   "cell_type": "markdown",
   "metadata": {},
   "source": [
    "## Step 3: Finding hints of climate change in 'event_description'\n",
    "\n",
    "In NASA's Global Landslide Catalog, we find a column 'event_desciption'. As the name suggests, it is brief report about the landslide given by the source. In it, we can find hints of climate change: unusual or record-breaking weather or even reporters blaming global warming.\n",
    "\n",
    "We can use regular expressions (regex) to find out. In the next cells, we will display and count all event desciption matching a given regular expression. As you will see, while not always relevant, this method shows that the words 'record breaking' and 'unusual' are, for example, often use to describe the weather in our decade."
   ]
  },
  {
   "cell_type": "code",
   "execution_count": 10,
   "metadata": {},
   "outputs": [
    {
     "name": "stdout",
     "output_type": "stream",
     "text": [
      "Counting ' [Cc]limate change '\n",
      "[Cc]limate change found at row 7235 (year 2015 ) :\n",
      " Akbayan’s Rep. Barry Gutierrez, together with Rep. Angie Katoh and Rep. Rodel Batocabe, filed House Resolution 2274 directing the House committees on natural resources, climate change and energy to jointly conduct an inquiry, in aid of legislation, on the collapse of a portion of the Panian pit of Semirara Mining and Power Corp. in Semirara Island, Caluya, Antique. \n",
      "\n",
      "[Cc]limate change found at row 11012 (year 2017 ) :\n",
      " Landslide blocks Malai-Rohtang HWY. Article: \"\"Kullu along with other northern regions of India is experiencing heavy rains and strong winds from past few days. The sudden climate change has caused a lot of damage especially to the ready crops and people’s properties. Also bringing in sudden avalanches and landslides.\"\" \n",
      "\n",
      "Number of ' [Cc]limate change ' found : {2015: 1, 2017: 1}\n",
      "\n",
      "\n",
      "Counting ' [Gg]lobal warming '\n",
      "[Gg]lobal warming found at row 2721 (year 2010 ) :\n",
      " August 23, 2010  MITTIMATALIK/POND INLET - A large mudslide near Pond Inlet Wednesday has some residents concerned about the possibility of it happening in the community.  The mudslide was about 80 metres long and, according to Colin Saunders, the economic development officer for the hamlet, was the   biggest one on record for the hamlet. \"You could probably point your finger at global warming because the permafrost is slowing dying,\" said Saunders.  \"A lot of permafrost is actually just frozen mud and when it thaws, it slides.\"  Mike Richards, senior administrative officer for the hamlet, said he thinks the mudslide may have been due to a large amount of rain the area has been having lately.  \"The area is quite saturated,\" said Richards. There was a very fine clay that got saturated with water and seeped away, according to Richards, and a layer of gravel on top of it had eroded down, both of which caused the slide.  \n",
      "\n",
      "Number of ' [Gg]lobal warming ' found : {2010: 1}\n",
      "\n",
      "\n",
      "Counting ' [Gg]reenhouse effect '\n",
      "Number of ' [Gg]reenhouse effect ' found : {}\n",
      "\n",
      "\n",
      "Counting ' [Rr]ecord-breaking '\n",
      "[Rr]ecord-breaking found at row 633 (year 2013 ) :\n",
      " As City of Asheville crews continue to address roadways affected by landslides during recent record-breaking rains, contractors began work Tuesday on two sites where landslide damage was more extensive. Spooks Branch Road and an area near the intersection of Skyview Place and Sunset Drive, all in North Asheville, experienced landslides earlier this month due to heavy rains. Both instances resulted in lane or road closures. Assessment of the projectsÕ scope began as soon as weather and the soil stability on site permitted. Because of the magnitude of their damage, the Skyview and Spooks Branch locations required working with outside contractors. ÒWe initiated an aggressive schedule,Ó said Streets and Engineering Services Manager Greg Shuler. During the bank restoration and repair, some road and lane closures are expected. During that time, barricades and markers will be used to indicate road or lane closures. In the interest of public safety, motorists are asked to observe markers and n \n",
      "\n",
      "[Rr]ecord-breaking found at row 1314 (year 2011 ) :\n",
      " The State Patrol says traffic is restored to normal after a mudslide slows down Eastbound I-94.  It happened just before 9:00 Saturday night. The State Patrol says mud slid down from the hill onto I-94 near mile marker 63. That slowed down traffic for several hours, as crews worked to get the mud off the road.  Here is the press release from the WI State Patrol:  This is a cancellation of the incident below. At 7:26 AM on Sunday June 19, 2011 traffic flow was restored to normal.  At 8:44 PM on Saturday June 18, 2011 a WEATHER EVENT occurred on I-94 EB at MILEPOST 63 in EAU CLAIRE County near EAU CLAIRE.  Motorists are always encouraged to slow down, pay attention and be alert for changing conditions.  --Font Size:    Record-breaking rain showers drenched Eau Claire this weekend. A thunderstorm Saturday night left 4.7'' inches of rain and a huge mess to clean up. The heavy rain flooded several streets across the city trapping drivers who tried to brave the flood waters.  Meanwhile, outs \n",
      "\n",
      "[Rr]ecord-breaking found at row 1592 (year 2011 ) :\n",
      " Landslides triggered by torrential rain have reportedly killed at least 32 people in South Korea, including at least 16 people in the capital Seoul. A dashboard-mounted camera captures a landslide sweeping from Mt Umyeon across a busy road during the morning rush-hour in Seoul’s Bangbae-dong district.  The landslide cut a swathe through the trees, carrying debris across the highway. This video captures some of the flooding in Gangnam, Seoul. The uploader writes: “I’ve been living in Seoul for 26 years, but never seen like this before. This Seocho town & Gang-nam area is comparatively well organized in Seoul but some public system are stopped such as drainage and even electricity. All of people and cars are stuck and suffered from this crazy rain here, so it must be huge disaster for other towns in Seoul.”  : SEOUL, July 29 (UPI) -- Record-breaking rains in South Korea set off landslides and floods that killed at least 59 people and left another 10 missing, officials said Friday.  Rescu \n",
      "\n",
      "[Rr]ecord-breaking found at row 3043 (year 2014 ) :\n",
      " Two cottages and four boathouses were washed into a lake in one of two landslides in Quebec's Laurentians region today. Quebec provincial police say they believe no one was injured, and emergency officials are at the site inspecting the damage. Police Const. Gino Paré said emergency officials were alerted at 12:20 p.m. ET to the incident in Lac-des-Seize-Îles, about 100 kilometres northwest of Montreal. Environment Canada issued a rainfall warning for the Laurentians region Monday afternoon, calling for heavy rainfall at times. Water levels were already on the rise Monday due to melting snow from record-breaking high temperatures of more than 22 C. On Tuesday, more than 20 millimetres of rain fell on the region, washing away roads and causing flooding in many parts of southwestern Quebec.  \n",
      "\n",
      "[Rr]ecord-breaking found at row 4037 (year 2010 ) :\n",
      " When Members of Greater Pleasant View Baptist Church congregate Sunday, they will again have to use an alternate door to exit the fellowship hall of their church.  Even though the church sits on relatively high ground, which protected it from floodwaters, debris from a mudslide is still blocking the door.  Mudslides that occurred after the record-breaking rainfall of May 1-2 blocked roads and menaced houses on a scale few people have ever witnessed. \n",
      "\n",
      "[Rr]ecord-breaking found at row 5613 (year 2013 ) :\n",
      " As City of Asheville crews continue to address roadways affected by landslides during recent record-breaking rains, contractors began work Tuesday on two sites where landslide damage was more extensive. Spooks Branch Road and an area near the intersection of Skyview Place and Sunset Drive, all in North Asheville, experienced landslides earlier this month due to heavy rains. Both instances resulted in lane or road closures. Assessment of the projectsÕ scope began as soon as weather and the soil stability on site permitted. Because of the magnitude of their damage, the Skyview and Spooks Branch locations required working with outside contractors. ÒWe initiated an aggressive schedule,Ó said Streets and Engineering Services Manager Greg Shuler. During the bank restoration and repair, some road and lane closures are expected. During that time, barricades and markers will be used to indicate road or lane closures. In the interest of public safety, motorists are asked to observe markers and n \n",
      "\n",
      "[Rr]ecord-breaking found at row 6360 (year 2015 ) :\n",
      " A road crew cleared debris this morning from a small mudslide near the Twin Lakes parking lot adjacent to the playground.  The City and Borough of Juneau Parks and Recreation Department announced the closure at 10 a.m. Wednesday, but the slide occurred the night prior during rainfall that poured a record-breaking 1.62 inches of water just outside the airport area, according to the National Weather Service Juneau Forecast Office. Normal rainfall this time of year in that area is .30 inches.  CBJ Emergency Programs Director Tom Mattice said a drain was plugged and began to overflow after mudflow from dislodged trees began to build up.  Mattice said the park officially reopened around 11 a.m. Wednesday after street crews used heavy equipment to clear the area near Wire Street, Old Glacier Highway and the Twin Lakes parking lot. Juneau’s downtown area has also seen a heavy flow of rain, 3.33 inches in the past 48 hours, according to NWS, but there are no other reports of mudslides in the a \n",
      "\n",
      "[Rr]ecord-breaking found at row 6821 (year 2013 ) :\n",
      " As City of Asheville crews continue to address roadways affected by landslides during recent record-breaking rains, contractors began work Tuesday on two sites where landslide damage was more extensive. Spooks Branch Road and an area near the intersection of Skyview Place and Sunset Drive, all in North Asheville, experienced landslides earlier this month due to heavy rains. Both instances resulted in lane or road closures. Assessment of the projectsÕ scope began as soon as weather and the soil stability on site permitted. Because of the magnitude of their damage, the Skyview and Spooks Branch locations required working with outside contractors. ÒWe initiated an aggressive schedule,Ó said Streets and Engineering Services Manager Greg Shuler. During the bank restoration and repair, some road and lane closures are expected. During that time, barricades and markers will be used to indicate road or lane closures. In the interest of public safety, motorists are asked to observe markers and n \n",
      "\n",
      "[Rr]ecord-breaking found at row 7672 (year 2014 ) :\n",
      " Record-breaking heat is giving way to thunderstorms in the Sierra dumping heavy rain along the California-Nevada line, triggering flash flood warnings and a mudslide that closed part of a highway south of Hawthorne. The National Weather Service issued a flash flood warning until 6 p.m. Wednesday for Mineral County in western Nevada after more than an inch of rain fell in less than an hour. There have been no reports of injuries, but the service said a weather spotter reported one vehicle was stuck in the mud on Nevada Highway 359 about 6.5 miles south of Hawthorne near Lucky Boy Pass Road. Nevada Department of Transportation spokeswoman Meg Ragonese told the Reno Gazette Journal crews were on the scene but there's no estimate on when they would reopen the highway connecting Hawthorne to California Highway 167 just north of Mono Lake. \n",
      "\n",
      "[Rr]ecord-breaking found at row 7784 (year 2010 ) :\n",
      " Several hikers were reported trapped after a mudslide Monday afternoon near the Chantry Flats campground in the Angeles National Forest, officials with the Los Angeles County Fire Department said. Details were sketchy but the hikers had been trapped, not buried, by the 2 p.m. mudslide, said Fire Inspector Matt Levesque. The Fire Department dispatched its Urban Search and Rescue task force, which has tools and equipment to deal with entrapped victims, Levesque said. The location where the hikers reported the slide is approximately a 25-minute hike up the trail from the Chantry Flats campground. A low pressure system has brought cool and drizzly weather to the Los Angeles region, which just a week ago baked under record-breaking temperatures. Update: Los Angeles County fire officials said they could not find any victims reportedly trapped Monday afternoon in mud in the Angeles National Forest. \n",
      "\n",
      "[Rr]ecord-breaking found at row 8543 (year 2013 ) :\n",
      " Heavy rains continued to hit Western Japan yesterday, with record-breaking amounts of rainfall measured in Niigata and Tottori Prefectures. According to meteorological data, 104.5 mm of rain fell in a 24-hour period, a record for the area in August. JapanÕs Meteorological Agency called it Òthe most intense rainfall recorded in an hour.Ó The agency warned that there may be more of this torrential rain in the prefecture and the region. According to police reports, 61-year-old Masatoshi Adachi died when his home in Nagaoka, Niigata Prefecturecollapsed under a mudslide as heavy rain hit the region. The police responded to a neighborÕs summons for help and pulled Adachi from the mud, but he was later pronounced dead at a hospital. Around 50 residents of the area in Niigata took shelter in nearby facilities to escape mudslides. In Tottori Prefecture, the Shiomi River became swollen due to the torrential rains and caused flooding in houses and some roads near the river. The water levels in ri \n",
      "\n",
      "[Rr]ecord-breaking found at row 8905 (year 2013 ) :\n",
      " Heavy rainfall caused irritation, spurred flooding across Pennsylvania and was blamed for a landslide west of Pittsburgh. The landslide in Moon Township forced a lane closure on University Boulevard, a major thoroughfare, but no one was hurt and no cars were damaged, PennDOT spokesman Steve Cowan said. \"It's generally a nasty day,\" said Walter Drag of the National Weather Service. Drag said there's been between 1 and 2 1/2 inches of rain so far in the region west of the Delaware Valley. He added that the Philadelphia region received a record-breaking amount of rain in June, between 10_ and 14 inches, which has left the ground saturated. That could create a dangerous situation for people in low-lying areas, Drag said. \n",
      "\n",
      "[Rr]ecord-breaking found at row 9284 (year 2013 ) :\n",
      " As City of Asheville crews continue to address roadways affected by landslides during recent record-breaking rains, contractors began work Tuesday on two sites where landslide damage was more extensive. Spooks Branch Road and an area near the intersection of Skyview Place and Sunset Drive, all in North Asheville, experienced landslides earlier this month due to heavy rains. Both instances resulted in lane or road closures. Assessment of the projectsÕ scope began as soon as weather and the soil stability on site permitted. Because of the magnitude of their damage, the Skyview and Spooks Branch locations required working with outside contractors. ÒWe initiated an aggressive schedule,Ó said Streets and Engineering Services Manager Greg Shuler. During the bank restoration and repair, some road and lane closures are expected. During that time, barricades and markers will be used to indicate road or lane closures. In the interest of public safety, motorists are asked to observe markers and n \n",
      "\n",
      "[Rr]ecord-breaking found at row 9374 (year 2013 ) :\n",
      " Heavy rains continued to hit Western Japan yesterday, with record-breaking amounts of rainfall measured in Niigata and Tottori Prefectures. According to meteorological data, 104.5 mm of rain fell in a 24-hour period, a record for the area in August. JapanÕs Meteorological Agency called it Òthe most intense rainfall recorded in an hour.Ó The agency warned that there may be more of this torrential rain in the prefecture and the region. According to police reports, 61-year-old Masatoshi Adachi died when his home in Nagaoka, Niigata Prefecturecollapsed under a mudslide as heavy rain hit the region. The police responded to a neighborÕs summons for help and pulled Adachi from the mud, but he was later pronounced dead at a hospital. Around 50 residents of the area in Niigata took shelter in nearby facilities to escape mudslides. In Tottori Prefecture, the Shiomi River became swollen due to the torrential rains and caused flooding in houses and some roads near the river. The water levels in ri \n",
      "\n",
      "Number of ' [Rr]ecord-breaking ' found : {2013: 7, 2011: 2, 2014: 2, 2010: 2, 2015: 1}\n",
      "\n",
      "\n",
      "Counting ' [Hh]ottest '\n",
      "[Hh]ottest found at row 2657 (year 2010 ) :\n",
      " Heavy rain that fell overnight Saturday and through part of Sunday played havoc with Island roads, homes and sewer systems.  Sunday’s rainfall, as measured at Victoria International Airport, was more than twice the old record of 20 millimetres. It was also the hottest day on record for Victoria on a Dec. 12, as the temperature peaked at 13.9 C.  The district municipality of Sooke had an especially tough time, as it was cut off to vehicle access for several hours during the day. Flooding closed Sooke Road in the vicinity of West Coast Tire and Kangaroo Road, where problems have often occurred in the past, while a mudslide blocked the road to Port Renfrew. \n",
      "\n",
      "[Hh]ottest found at row 5864 (year 2013 ) :\n",
      " Heavy rains lashed several parts of Himachal Pradesh triggering landslides and damaging houses in Taradevi and Krishananagar areas of the state capital. About six houses in Press Colony area were damaged as heavy rains caused a massive landslide near Taradevi last night. Shimla and Arki received 54 mm of rains while Nagrota Suriyan had 37 mm of rains, followed by Jogindernagar and Pandoh 34 mm, Guler 32 mm, Dehra Gopipur 30 mm, Solan 28 mm, kasauli and Sunnibajji 22 mm, Kahu and Palampur 19 mm and Mashobra 16 mm. The maximum day temperatures decreased marginally and Una was hottest in the region with maximum temperature at 36 degrees Celsius while Sundernagar recorded a low of 33 deg, followed by Bhuntar 32 deg, Dharamsala 29.2 deg, Solan 28.5 deg, Nahan 28.2 deg and Shimla 22.5 deg C. \n",
      "\n",
      "Number of ' [Hh]ottest ' found : {2010: 1, 2013: 1}\n",
      "\n",
      "\n",
      "Counting ' [Uu]nusual '\n",
      "[Uu]nusual found at row 624 (year 2010 ) :\n",
      " Helena received a substantial amount of rain and a bevy of lightning and thunder Tuesday night. The Helena Regional Airport recorded 0.57 inches of rain, with the bulk of that falling in a short period of time, according to Bob Hoenisch, a meteorologist with the National Weather Service. Helena’s norm for the entire month of August to this point is 0.37 inches. “That’s a lot of rain in an hour. While it’s not unusual for a summer storm, it’s a little abnormal for August,” Hoenisch said. The storm began at about 6:20 p.m.  Winds gusted up to 52 mph, Hoenisch said. Authorities were kept busy throughout the night on a variety of calls, most being false alarms of lightning strikes. The weather caused a home on the 4300 block of Brown Gulch to be evacuated after a mudslide entered the house’s basement, according to Lewis and Clark County Sheriff Leo Dutton. The resident told dispatch that the basement was filled with mud and ash, which remained from the Lakeside Fire that charred about 800  \n",
      "\n",
      "[Uu]nusual found at row 1211 (year 2014 ) :\n",
      " KUCHING: Unusually heavy rains and strong widns here has not only pushed up the prices of vegetables and seafood but has also left many in Sarawak’s northern region battling with flash flood, landslides and road cave-ins. Incessant rain since Monday resulted in floods, landslides and roads to collapse in some parts of Miri division, including Miri, Bekenu, Niah and Bakong districts. The Fire and Rescue Services Department also reported landslides in Kampung Iran and Suai areas, as well as Pujut Padang Kerbau. Sixteen people, including two children, were lucky to escape unhurt in the landslide in the latter location on Tuesday. A landslide also occured in Kampung Katong, Lopeng, affecting the access road. \n",
      "\n",
      "[Uu]nusual found at row 1233 (year 2011 ) :\n",
      " 5:23 PM May 18, 2011  The recent rains have been causing issues across the city of Huntington, and the troubles will continue Thursday.  The City of Huntington will be closing the 1200 block of Enslow Boulevard, starting at 8 a.m. Thursday. Crews will be working to clear debris caused by a landslide. Trees tumbled down the hill, piling up in the water in Four Pole Creek.  Huntington officials have received reports of more than a dozen landslides in the last week due to this unusually wet weather pattern. \n",
      "\n",
      "[Uu]nusual found at row 2499 (year 2014 ) :\n",
      " KUCHING: Unusually heavy rains and strong widns here has not only pushed up the prices of vegetables and seafood but has also left many in Sarawak’s northern region battling with flash flood, landslides and road cave-ins. Incessant rain since Monday resulted in floods, landslides and roads to collapse in some parts of Miri division, including Miri, Bekenu, Niah and Bakong districts. The Fire and Rescue Services Department also reported landslides in Kampung Iran and Suai areas, as well as Pujut Padang Kerbau. Sixteen people, including two children, were lucky to escape unhurt in the landslide in the latter location on Tuesday. A landslide also occured in Kampung Katong, Lopeng, affecting the access road.  \n",
      "\n",
      "[Uu]nusual found at row 2890 (year 2014 ) :\n",
      " KUCHING: Unusually heavy rains and strong widns here has not only pushed up the prices of vegetables and seafood but has also left many in Sarawak’s northern region battling with flash flood, landslides and road cave-ins. Incessant rain since Monday resulted in floods, landslides and roads to collapse in some parts of Miri division, including Miri, Bekenu, Niah and Bakong districts. The Fire and Rescue Services Department also reported landslides in Kampung Iran and Suai areas, as well as Pujut Padang Kerbau. Sixteen people, including two children, were lucky to escape unhurt in the landslide in the latter location on Tuesday. A landslide also occured in Kampung Katong, Lopeng, affecting the access road. \n",
      "\n",
      "[Uu]nusual found at row 3252 (year 2014 ) :\n",
      " KUCHING: Unusually heavy rains and strong widns here has not only pushed up the prices of vegetables and seafood but has also left many in Sarawak’s northern region battling with flash flood, landslides and road cave-ins. Incessant rain since Monday resulted in floods, landslides and roads to collapse in some parts of Miri division, including Miri, Bekenu, Niah and Bakong districts. The Fire and Rescue Services Department also reported landslides in Kampung Iran and Suai areas, as well as Pujut Padang Kerbau. Sixteen people, including two children, were lucky to escape unhurt in the landslide in the latter location on Tuesday. A landslide also occured in Kampung Katong, Lopeng, affecting the access road. \n",
      "\n",
      "[Uu]nusual found at row 3256 (year 2011 ) :\n",
      " Road repair work continues in response to the debris flows that damaged several National Forest Roads around Twisp and Winthrop this spring.  Several debris flows were triggered by this spring’s unusually wet weather.  Those flows damaged, and in some cases closed, a number of Forest roads.     One of the largest was the Pearrygin Creek debris flow.  It blocked Forest Road 5009100, northeast of Winthrop near Pearrygin State Park, cutting off access to Sullivan Pond and Ramsey Creek.  The flow deposited silt and debris across approximately 28 acres of farmland.  The debris has been cleared from the 5009100 road, and the creek crossing has been temporarily repaired.  The road is open again to high clearance vehicles.  Further up, the 5009200 road was also damaged.  This road, leading into Ramsey Creek, is not yet repaired and remains closed along with the upper end of the 5009300 road.   To the southwest, another large debris flow came down an unnamed drainage near War Creek, destroying  \n",
      "\n",
      "[Uu]nusual found at row 3380 (year 2012 ) :\n",
      " SRINAGAR, India (AP) — An avalanche triggered by recent rains killed at least one man in the Himalayan territory of Kashmir, while strong winds ripped trees from their roots and damaged thousands of homes, officials said Tuesday. State disaster management official Amir Ali said rescuers were searching for two other men missing since the avalanche struck Monday night near the remote mountain town of Gurez. It is on India's side of the militarized cease-fire line that divides Kashmir between India and Pakistan. Avalanches and landslides are common in Kashmir thanks to heavy snowfall and frequent rain. Meanwhile, low atmospheric pressure over the region Monday night caused unusually strong winds, gusting up to 27 miles (44 kilometers) per hour through the main city of Srinagar. \n",
      "\n",
      "[Uu]nusual found at row 3417 (year 2016 ) :\n",
      " (Estimated location within Bundibugyo district). At least 15 people have been confirmed dead and scores still missing following a landslide triggered by heavy downpours in western Uganda's Bundibugyo District Tuesday morning. Bridges were washed away and some 200 homes destroyed in heavy rains that have cut off access to some areas. Rescue operations are on-going. “It is a major landslide, which has killed about 15 people as from the reports so far received and 50 others are undergoing treatment in hospital,” a local official Godfrey Mucunguzi said. The news comes a day after authorities announced that at least 49 people had been killed at the weekend in neighbouring Rwanda after landslides caused by heavy rains. Landslides are not unusual in Rwanda but this year’s rainy season has been particularly deadly with at least 67 people killed from January to April. \n",
      "\n",
      "[Uu]nusual found at row 3594 (year 2015 ) :\n",
      " Note: series of landslides. Unusually heavy rainfall in Wyoming on Sunday triggered a series of landslides that has led to the closure, probably until Wednesday, of the US20 highway between Thermopolis and Shoshoni as well as the BNSF railway line. \n",
      "\n",
      "[Uu]nusual found at row 3727 (year 2015 ) :\n",
      " Residents of Padmavathy Nagar in West Velachery were evacuated by Chennai Corporation on Saturday following an unusual mudslide caused by heavy rain near a multi-storied building. The mudslide damaged roads and other civic infrastructure in the area. Chennai Corporation, Fire and Rescue Services, Chennai Metropolitan Development Authority and IIT-M are assessing the damage to save the neighbourhood from further disaster. Disaster management experts have also been asked to find a solution to the problem as the Corporation remains clueless about the cause. “At least eight families have been evacuated. At least 150 workers are trying to reduce the damage,” said an official of Chennai Corporation. The restoration work on the entire neighbourhood is expected to cost huge sums of money to the Corporation. The civic body is studying the role of the builder in the damage caused to the neighbourhood. \n",
      "\n",
      "[Uu]nusual found at row 3835 (year 2014 ) :\n",
      " KUCHING: Unusually heavy rains and strong widns here has not only pushed up the prices of vegetables and seafood but has also left many in Sarawak’s northern region battling with flash flood, landslides and road cave-ins. Incessant rain since Monday resulted in floods, landslides and roads to collapse in some parts of Miri division, including Miri, Bekenu, Niah and Bakong districts. The Fire and Rescue Services Department also reported landslides in Kampung Iran and Suai areas, as well as Pujut Padang Kerbau. Sixteen people, including two children, were lucky to escape unhurt in the landslide in the latter location on Tuesday. A landslide also occured in Kampung Katong, Lopeng, affecting the access road. \n",
      "\n",
      "[Uu]nusual found at row 4570 (year 2011 ) :\n",
      " May 16 2011  In just over 48 hours, rainfall records around the Puget Sound were shattered.  At Sea-Tac airport, 0.97 inches were recorded for Saturday, and 0.81 inches fell Sunday. The previous records for May 14 and 15 were 0.53 inches in 2001, and 0.56 inches in 2006, respectively. According to the National Weather Service, Sea-Tac airport has already received 2.60 inches of rain for the month of May — about one and a half times the average total May rainfall of 1.78 inches.  Around the region, the rain came down ceaselessly. Here in Federal Way, the endless barrage of water led to a mudslide on Dash Point Road on Saturday morning. City public works director Marwan Salloum said the mudslide on Dash Point is an unusual occurrence for the area.  “That was a unique situation due to the heavy rain we received (Friday) night,” he said. “The roadway has a drainage system that collects the water, but the ditch was overflowing to the point that the water found another path into a ravine tha \n",
      "\n",
      "[Uu]nusual found at row 4785 (year 2014 ) :\n",
      " KUCHING: Unusually heavy rains and strong widns here has not only pushed up the prices of vegetables and seafood but has also left many in Sarawak’s northern region battling with flash flood, landslides and road cave-ins. Incessant rain since Monday resulted in floods, landslides and roads to collapse in some parts of Miri division, including Miri, Bekenu, Niah and Bakong districts. The Fire and Rescue Services Department also reported landslides in Kampung Iran and Suai areas, as well as Pujut Padang Kerbau. Sixteen people, including two children, were lucky to escape unhurt in the landslide in the latter location on Tuesday. A landslide also occured in Kampung Katong, Lopeng, affecting the access road. \n",
      "\n",
      "[Uu]nusual found at row 5316 (year 2011 ) :\n",
      " AMERICAN FORK — Roads through American Fork Canyon have reopened following a series of mudslides.Between 2 a.m. and 3 a.m., five slides covered the area where state Route 92 and state Route 144 connect. The area is also known as where American Fork Canyon road intersects with the Alpine Loop Scenic Byway. The slides, which covered the roads with mud, rocks and debris, were triggered by strong thunderstorms.Scott Thompson with the Utah Department of Transportation said the canyon received about 2 inches of rain Tuesday night, which was too much for the already-saturated hillsides. UDOT crews had been expecting slides in the canyon because they happen every year, but five slides in one night was unusual.UDOT crews were able to clear enough mud off one lane to get stranded campers and bikers down the canyon, said UDOT spokesman Nile Easton.Some motorists were reportedly stranded at Tibble Fork for several hours.But to get the heavy portions of debris off the road, bulldozers and heavy equ \n",
      "\n",
      "[Uu]nusual found at row 5988 (year 2013 ) :\n",
      " On Tuesday at approximately 11:30 a.m. the profile of the geological feature west of town known as ÔThe PinnaclesÕ was significantly altered by a massive rock slide. According to Adam Long, Brooks Lakes Lodge general manager, there was no warning, just a cracking noise followed by Òa huge dust cloudÓ that completely blocked the view of the Pinnacles, followed by the ground rumbling. ÒThere was dust everywhere, you could actually see and  smell it from the Lodge,Ó he said. The Pinnacles is one of the most photographed features west of Dubois and is featured in local and state tourism information. In a phone interview with  Central Wyoming College Geology professor Suki Smaglik, she  noted that the Pinnacles formation was composed of very loosely consolidated volcanic rock known as volcanic breccias which, even without the unusually high amount of rain and snow, was unstable. Smaglik said the formation was laid down in the Eocene Era, some 50 million years ago from volcanic action. ÒThe  \n",
      "\n",
      "[Uu]nusual found at row 6423 (year 2011 ) :\n",
      " CHUMPHON, March 27 -- Several tourists and villagers were trapped, roads cut off from the outside world and numerous people reported missing after they were swept into a swollen river as heavy downpours continued to devastate southern provinces in Thailand on Sunday.  Unusually torrential rains continued to hit southern provinces due to a high pressure system from China persisting over the region.  ...  In nearby Surat Thani province, the situation was still worrisome as 10 districts are inundated and several houses collapsed because of landslides. Water runoff from a mountain had swept through three villages as officials helped villagers to higher ground.  Officials in Surat Thani had urged villagers in risky areas to temporarily evacuate from their homes as the amount of rainfall in some areas there was measured at 110 millimetres. Ferry services to Ko Phangan were now suspended temporarily as waves in the Gulf of Thailand were higher than three metres, making it too dangerous to mak \n",
      "\n",
      "[Uu]nusual found at row 7905 (year 2010 ) :\n",
      " Heavy rains set off deadly floods and a mudslide in Bolivia that destroyed 70 homes in the capital and left nine dead elsewhere. Officials say at least nine people died as a consequence of heavy rains affecting mostly eastern Bolivia. Thousands of acres (hectares) of crops and grassland there are under water. In La Paz, President Evo Morales on Friday toured the site of the slide and declared a national disaster. The hillside underneath the houses slowly gave way on Thursday. But the homes were emptied, and there were no deaths. Bolivia's Meteorological Service says the El Nino weather phenomenon is responsible for the unusually heavy rains that should continue. \n",
      "\n",
      "[Uu]nusual found at row 8047 (year 2009 ) :\n",
      " A temperamental weather system clobbered the Islands yesterday (nov 14), as residents and officials braved stormy weather from one end of the state to the other.....Mijares said the Kalihiwai Bridge on Kuhio Highway was also closed, which he described as unusual. And, near his home, off Kalihiwai Road, there had been a landslide. \n",
      "\n",
      "[Uu]nusual found at row 8637 (year 2011 ) :\n",
      " At least 58 people have been killed and hundreds more are missing after flash floods hit central Burma this week, officials told a Burmese newsorganization in exile on Saturday.The flooding happened on Thursday in the town of Pakkokku in the Magwe Division after torrential rains hit the region. A local official told Mizzima News that at least 58 people were killed while 320 others are still missing as a result of landslides and flood waters.Four relief centers in local monasteries have opened to assist flood victims. According to residents, at least 500 houses from an illegal slum quarter located along the Shwechaung stream were swept away by the flood waters.\"There was a landslide along the bank of the stream, about 400 or 500 yards (365 to 457 meters) in length in some places. About 15 to 20 feet (4.5 to 6 meters) of soil eroded and the houses were swept away by the water. In total about 500 houses [were affected],\" said one resident.South East Asia has been hit by unusually heavy  \n",
      "\n",
      "[Uu]nusual found at row 9039 (year 2011 ) :\n",
      " 5:23 PM May 18, 2011  The recent rains have been causing issues across the city of Huntington, and the troubles will continue Thursday.  The City of Huntington will be closing the 1200 block of Enslow Boulevard, starting at 8 a.m. Thursday. Crews will be working to clear debris caused by a landslide. Trees tumbled down the hill, piling up in the water in Four Pole Creek.  Huntington officials have received reports of more than a dozen landslides in the last week due to this unusually wet weather pattern.  -----  Huntington leaders are dealing with 14 landslides \n",
      "\n",
      "[Uu]nusual found at row 9387 (year 2009 ) :\n",
      " SEREMBAN: The Seremban-Kuala Pilah road, an important link from here to the East Coast, will be closed to heavy traffic from 6pm Monday until further notice.  This is following 10 minor landslides along the stretch on Sunday night due to unusually heavy rainfall.  \n",
      "\n",
      "[Uu]nusual found at row 10220 (year 2017 ) :\n",
      " A rockslide reported at approximately 3:30 p.m. on Tuesday, Jan. 3, 2017 has forced the closure of the Pools of ʻOheʻo in the Kīpahulu District of Haleakalā National Park, until further notice.  One park visitor sustained minor injuries in the incident. Park officials say the unanticipated rockslide was likely caused by oversaturated soils and unusually heavy rainfall in the Kīpahulu and Hāna areas. \n",
      "\n",
      "[Uu]nusual found at row 10359 (year 2017 ) :\n",
      " THE unusual downpour on Sunday wreaked havoc in several areas in Ampang with landslides and flash floods reported.  A landslide in the Riverdale Park Apartments (Block B) in Bukit Antarabangsa caused a scare with residents although there were no casualties or structural damage.  “Preliminary checks by MPAJ showed that the cause of the landslide was the result of surface run-off that flowed directly onto the surface of the slope.  “This situation was made worse by the absence of a cut-off drain on the surface of the slope to drain the runoff water. A wall located 3m below the slope had also given way,” she said. During the incident, a 25m landslide occurred at about 4pm after heavy rains. \n",
      "\n",
      "[Uu]nusual found at row 11031 (year 2017 ) :\n",
      " Landslide triggered by heavy rainfall buried 11 houses an kills 24 people.  Article: \"this looks to be a large, deep-seated landslide in loess.  Interesting the main scarp appears to be predominantly translational, but with an unusually deep shear surface.\" \n",
      "\n",
      "Number of ' [Uu]nusual ' found : {2010: 2, 2014: 6, 2011: 7, 2012: 1, 2016: 1, 2015: 2, 2013: 1, 2009: 2, 2017: 3}\n",
      "\n",
      "\n"
     ]
    }
   ],
   "source": [
    "import re\n",
    "def find_regex(regex):\n",
    "    count_per_year={}\n",
    "    print('Counting \\'',regex,'\\'')\n",
    "    for index,event_des in enumerate(lsc.d['event_description']):\n",
    "        if re.search(regex,event_des) is not None:\n",
    "            year=lsc.d['year'][index]\n",
    "            print(regex,'found at row',index,'(year',year,') :\\n',event_des,'\\n')\n",
    "            if year in count_per_year:\n",
    "                count_per_year[year]+=1\n",
    "            else:\n",
    "                count_per_year[year]=1\n",
    "                \n",
    "    print('Number of \\'',regex,'\\' found :',count_per_year)\n",
    "    return(count_per_year)\n",
    "        \n",
    "            \n",
    "list_of_regex=['[Cc]limate change','[Gg]lobal warming','[Gg]reenhouse effect','[Rr]ecord-breaking','[Hh]ottest','[Uu]nusual']\n",
    "\n",
    "hints_count={}\n",
    "\n",
    "for regex in list_of_regex:\n",
    "        hints_count[regex]=find_regex(regex)\n",
    "        print('\\n')"
   ]
  },
  {
   "cell_type": "code",
   "execution_count": 11,
   "metadata": {
    "scrolled": true
   },
   "outputs": [
    {
     "data": {
      "text/plain": [
       "{'[Cc]limate change': {2015: 1, 2017: 1},\n",
       " '[Gg]lobal warming': {2010: 1},\n",
       " '[Gg]reenhouse effect': {},\n",
       " '[Rr]ecord-breaking': {2013: 7, 2011: 2, 2014: 2, 2010: 2, 2015: 1},\n",
       " '[Hh]ottest': {2010: 1, 2013: 1},\n",
       " '[Uu]nusual': {2010: 2,\n",
       "  2014: 6,\n",
       "  2011: 7,\n",
       "  2012: 1,\n",
       "  2016: 1,\n",
       "  2015: 2,\n",
       "  2013: 1,\n",
       "  2009: 2,\n",
       "  2017: 3}}"
      ]
     },
     "execution_count": 11,
     "metadata": {},
     "output_type": "execute_result"
    }
   ],
   "source": [
    "hints_count"
   ]
  },
  {
   "cell_type": "code",
   "execution_count": 13,
   "metadata": {},
   "outputs": [
    {
     "data": {
      "text/plain": [
       "{2015: 4,\n",
       " 2017: 4,\n",
       " 2010: 6,\n",
       " 2013: 9,\n",
       " 2011: 9,\n",
       " 2014: 8,\n",
       " 2012: 1,\n",
       " 2016: 1,\n",
       " 2009: 2}"
      ]
     },
     "execution_count": 13,
     "metadata": {},
     "output_type": "execute_result"
    }
   ],
   "source": [
    "total_hints={}\n",
    "for hint,year_count in hints_count.items():\n",
    "    for year in year_count:\n",
    "        if year in total_hints:\n",
    "            total_hints[year]+=year_count[year]\n",
    "        else:\n",
    "            total_hints[year]=year_count[year]\n",
    "total_hints\n",
    "            "
   ]
  }
 ],
 "metadata": {
  "kernelspec": {
   "display_name": "Python 3",
   "language": "python",
   "name": "python3"
  },
  "language_info": {
   "codemirror_mode": {
    "name": "ipython",
    "version": 3
   },
   "file_extension": ".py",
   "mimetype": "text/x-python",
   "name": "python",
   "nbconvert_exporter": "python",
   "pygments_lexer": "ipython3",
   "version": "3.7.0"
  }
 },
 "nbformat": 4,
 "nbformat_minor": 2
}
